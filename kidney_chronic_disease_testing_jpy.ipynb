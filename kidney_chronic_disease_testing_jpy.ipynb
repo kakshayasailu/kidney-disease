{
  "nbformat": 4,
  "nbformat_minor": 0,
  "metadata": {
    "colab": {
      "provenance": [],
      "authorship_tag": "ABX9TyNhWfzUsp4w8GeXt9z0ihl5",
      "include_colab_link": true
    },
    "kernelspec": {
      "name": "python3",
      "display_name": "Python 3"
    },
    "language_info": {
      "name": "python"
    }
  },
  "cells": [
    {
      "cell_type": "markdown",
      "metadata": {
        "id": "view-in-github",
        "colab_type": "text"
      },
      "source": [
        "<a href=\"https://colab.research.google.com/github/kakshayasailu/kidney-disease/blob/main/kidney_chronic_disease_testing_jpy.ipynb\" target=\"_parent\"><img src=\"https://colab.research.google.com/assets/colab-badge.svg\" alt=\"Open In Colab\"/></a>"
      ]
    },
    {
      "cell_type": "code",
      "execution_count": 10,
      "metadata": {
        "id": "cpn3XPENAhqg"
      },
      "outputs": [],
      "source": [
        "labels = ['id','age', 'bp', 'sg', 'al', 'rbc', 'pc', 'pcc','bgr', 'bu',\n",
        "       'sc', 'sod','pot', 'hemo', 'pcv','htn', 'dm', 'appet', 'pe', 'ane']"
      ]
    },
    {
      "cell_type": "code",
      "source": [
        "inputs = []\n",
        "for lable in labels:\n",
        "  inputs.append(int(input('enter '+ lable + ':')))\n",
        "inputs\n",
        "\n"
      ],
      "metadata": {
        "colab": {
          "base_uri": "https://localhost:8080/"
        },
        "id": "oJ8VFSSZDaoZ",
        "outputId": "26b36981-d4d1-4cde-be65-c4710144b101"
      },
      "execution_count": 11,
      "outputs": [
        {
          "name": "stdout",
          "output_type": "stream",
          "text": [
            "enter id:1\n",
            "enter age:23\n",
            "enter bp:1\n",
            "enter sg:1\n",
            "enter al:1\n",
            "enter rbc:1\n",
            "enter pc:1\n",
            "enter pcc:1\n",
            "enter bgr:1\n",
            "enter bu:1\n",
            "enter sc:1\n",
            "enter sod:1\n",
            "enter pot:1\n",
            "enter hemo:1\n",
            "enter pcv:1\n",
            "enter htn:1\n",
            "enter dm:1\n",
            "enter appet:1\n",
            "enter pe:1\n",
            "enter ane:1\n"
          ]
        },
        {
          "output_type": "execute_result",
          "data": {
            "text/plain": [
              "[1, 23, 1, 1, 1, 1, 1, 1, 1, 1, 1, 1, 1, 1, 1, 1, 1, 1, 1, 1]"
            ]
          },
          "metadata": {},
          "execution_count": 11
        }
      ]
    },
    {
      "cell_type": "code",
      "source": [
        "from keras.models import load_model\n",
        "import numpy as np\n",
        "\n",
        "model = load_model('/content/kidney (2).h5')\n",
        "\n",
        "# Changed input_data to inputs\n",
        "in_array = np.array([inputs])\n",
        "result = model.predict(in_array)\n",
        "\n",
        "\n",
        "if result > 0.5:\n",
        "  print('You will get kidney disease')\n",
        "else:\n",
        "  print('you are Safe')"
      ],
      "metadata": {
        "colab": {
          "base_uri": "https://localhost:8080/"
        },
        "id": "EG7ADiwCEueX",
        "outputId": "f12f59a8-9d77-4cec-dae8-ce04cc5c84f7"
      },
      "execution_count": 12,
      "outputs": [
        {
          "output_type": "stream",
          "name": "stderr",
          "text": [
            "WARNING:absl:Compiled the loaded model, but the compiled metrics have yet to be built. `model.compile_metrics` will be empty until you train or evaluate the model.\n"
          ]
        },
        {
          "output_type": "stream",
          "name": "stdout",
          "text": [
            "\u001b[1m1/1\u001b[0m \u001b[32m━━━━━━━━━━━━━━━━━━━━\u001b[0m\u001b[37m\u001b[0m \u001b[1m0s\u001b[0m 149ms/step\n",
            "you are Safe\n"
          ]
        }
      ]
    }
  ]
}